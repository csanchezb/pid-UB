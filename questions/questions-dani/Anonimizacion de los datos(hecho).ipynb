{
 "cells": [
  {
   "cell_type": "markdown",
   "metadata": {},
   "source": [
    "### Posibilidad de identificación de un sujeto despues de la anonimización de los datos"
   ]
  },
  {
   "cell_type": "markdown",
   "metadata": {},
   "source": [
    "Para que un dato sea realmente anónimo, su identificación y su relación con un sujeto ha de ser completamente irreversible. Es decir,  podemos decir que un dato es anónimo si la posibilidad de vinculación con la persona a la que hubiera identificado el dato es nula teniendo en cuenta que se pueden utilizar otros datos y recursos y que estos pueden aumentar el riesgo de identificación con el tiempo.\n",
    "\n",
    "Actualmente la anonimizacion hecha por el departamento de gestión académica que nos proporció los datos consiste en cambiar el niub de los alumnos por un identificador único que no tiene ninguna relación alfa-numérica con el niub. Es decir, sabiendo solo los identificadores de los alumnos es imposible saber de quien se trata realmente ya que  no se sabe la manera ni el orden de asignar los nuevos identificadores.\n",
    "Debido a que prácticamente no se ha aplicado ninguna técnica de anonimizacion (a parte del remplazo del niub por un identificador aleatorio), si se dispone de varios datos sobre un sujeto en particular, se podría llegar a identificarlo.\n",
    "\n",
    "Por ejemplo, se exponen los siguientes casos hipotéticos que podrían llevar a la identificación de un sujeto\n"
   ]
  },
  {
   "cell_type": "code",
   "execution_count": 1,
   "metadata": {
    "collapsed": true
   },
   "outputs": [],
   "source": [
    "import numpy as np\n",
    "import pandas as pd"
   ]
  },
  {
   "cell_type": "code",
   "execution_count": 72,
   "metadata": {
    "collapsed": true
   },
   "outputs": [],
   "source": [
    "def select_rows(df, group, col):\n",
    "    out = pd.DataFrame()\n",
    "    tmp = df.copy()\n",
    "    for s in group:\n",
    "        out = pd.concat([out, tmp[tmp[col] == s]])\n",
    "    out = out.reset_index(drop=True)\n",
    "    return out"
   ]
  },
  {
   "cell_type": "code",
   "execution_count": 73,
   "metadata": {
    "collapsed": false
   },
   "outputs": [
    {
     "name": "stdout",
     "output_type": "stream",
     "text": [
      "Index([u'id_alumne', u'sexe', u'naixement', u'nacionalitat', u'simultaneitat', u'becat', u'priv_pub_cfgs', u'tipus_lloc_cfgs', u'lloc_cfgs', u'priv_pub_secundaria', u'tipus_lloc_secundaria', u'lloc_secundaria', u'desc_via_acces', u'id_via_acces', u'any_pau', u'universitat_procedencia', u'universitat_procedencia_desc', u'sistema_educatiu_estranger', u'pais_sistema_estranger', u'nota_acces', u'desc_enseny', u'id_enseny', u'any_primera_matricula', u'any_matriculacio_assig', u'id_assig', u'tipus_apunt', u'nota_primera_conv', u'nota_segona_conv'], dtype='object')\n"
     ]
    }
   ],
   "source": [
    "assig = pd.read_csv(\"datos2/assigs.csv\", na_values=np.nan)\n",
    "conv = pd.read_csv(\"datos2/conv.csv\", na_values=np.nan)\n",
    "registers = pd.read_csv(\"datos2/registers.csv\", na_values=np.nan)\n",
    "qualifications = pd.read_csv(\"datos2/qualifications.csv\", na_values=np.nan)\n",
    "datos = pd.merge(registers, qualifications)\n",
    "print datos.columns"
   ]
  },
  {
   "cell_type": "markdown",
   "metadata": {},
   "source": [
    "#####A continuación intentaremos a partir de unos casos ipoteticos la identificación de una o varias personas\n",
    "###Ejemplo 1. \n",
    "\n",
    "Supongamos que disponemos de la sigueinte información acerca de una persona:\n",
    "\n",
    "+ Año de nacimiento: 1986\n",
    "+ Sexo: hombre\n",
    "+ Población del centro de secundaria: Castelldefels (comarca Baix Llobregat)\n",
    "\n",
    "A continuación se mostrara que con saber esta información podríamos identificar a esta persona dentro de la base de datos y acceder a la información relacionada.\n",
    "\n",
    "Primero filtramos los registros por el año de nacimeinto de las personas: 1986"
   ]
  },
  {
   "cell_type": "code",
   "execution_count": 74,
   "metadata": {
    "collapsed": false
   },
   "outputs": [
    {
     "name": "stdout",
     "output_type": "stream",
     "text": [
      "Numero de alumnos nacido el 1986: 803\n"
     ]
    }
   ],
   "source": [
    "datos1 = datos[datos['naixement'] == 1986].reset_index(drop=True)\n",
    "print \"Numero de alumnos nacido el 1986: \" + str(len(datos.id_alumne.unique()))"
   ]
  },
  {
   "cell_type": "markdown",
   "metadata": {},
   "source": [
    "#####Podremos ver que la lista de alumnos se ha reducido a 22.\n",
    "\n",
    "A continuación filtraremos los registros segun el sexo de tal manera que nos quedemos solo con los varones.\n"
   ]
  },
  {
   "cell_type": "code",
   "execution_count": 75,
   "metadata": {
    "collapsed": false
   },
   "outputs": [
    {
     "name": "stdout",
     "output_type": "stream",
     "text": [
      "Numero de alumnos varones que han nacido el 1986: 803\n"
     ]
    }
   ],
   "source": [
    "datos1 = datos1[datos1['sexe'] == 'H'].reset_index(drop=True)\n",
    "print \"Numero de alumnos varones que han nacido el 1986: \" + str(len(datos.id_alumne.unique()))"
   ]
  },
  {
   "cell_type": "markdown",
   "metadata": {},
   "source": [
    "#####Podremos ver que la lista de alumnos se ha reducido a 21.\n",
    "\n",
    "A continuación filtraremos los registros segun la comarca donde han cursado la secundario, en este caso Baix Llobregat"
   ]
  },
  {
   "cell_type": "code",
   "execution_count": 76,
   "metadata": {
    "collapsed": false
   },
   "outputs": [
    {
     "name": "stdout",
     "output_type": "stream",
     "text": [
      "Numero de alumnos varones que han nacido el 1986 y que han cursado la secundaria en la comarca de Baix Llobregat: 1\n"
     ]
    }
   ],
   "source": [
    "datos1 = datos1[datos1['lloc_secundaria'] == 'Baix Llobregat'].reset_index(drop=True)\n",
    "print \"Numero de alumnos varones que han nacido el 1986 y que han cursado la secundaria en la comarca de Baix Llobregat: \" + str(len(datos1.id_alumne.unique()))"
   ]
  },
  {
   "cell_type": "markdown",
   "metadata": {},
   "source": [
    "##### Como podremos ver con estos tres datos que sabiamos sobre una persona pudimos identificarla dentro de la base de datos de este modo pudiendo ver toda su información.\n",
    "\n",
    "#### Una posible solución al problema de este caso sería añadir un pequeño ruido a los datos que representan los años o subir el nivel que de la area administrativa a una provincia en vez de una comarca."
   ]
  },
  {
   "cell_type": "markdown",
   "metadata": {},
   "source": [
    "###Ejemplo 2. \n",
    "\n",
    "Supongamos que disponemos de la sigueinte información acerca de una persona:\n",
    "\n",
    "+ Nota de las pruebas PAU: 6.915\n",
    "\n",
    "\n",
    "A continuación se mostrara que con saber esta información podríamos identificar a esta persona dentro de la base de datos y acceder a la información relacionada.\n",
    "\n",
    "Filtramos los registros por la nota de las Pruebas PAU: 6.915"
   ]
  },
  {
   "cell_type": "code",
   "execution_count": 77,
   "metadata": {
    "collapsed": false
   },
   "outputs": [
    {
     "name": "stdout",
     "output_type": "stream",
     "text": [
      "Numero de alumnos con la nota de las pruebas PAU igual a 6.915: 1\n"
     ]
    }
   ],
   "source": [
    "datos2 = datos[datos['nota_acces'] == 6.915].reset_index(drop=True)\n",
    "print \"Numero de alumnos con la nota de las pruebas PAU igual a 6.915: \" + str(len(datos2.id_alumne.unique()))"
   ]
  },
  {
   "cell_type": "markdown",
   "metadata": {},
   "source": [
    "##### Como podremos ver solo con saber la nota de las pruebas PAU de una persona, pudimos identificarla dentro de la base de datos\n",
    "\n",
    "#### Podríamos solucionar este problema añadiendo un ruido a las notas de acceso o quitar decimales"
   ]
  },
  {
   "cell_type": "markdown",
   "metadata": {},
   "source": [
    "###Ejemplo 3. \n",
    "\n",
    "Supongamos que disponemos de la sigueinte información acerca de una persona:\n",
    "\n",
    "+ Notas de las asignaturas cursadas: 5.8, 8.9, 5.5, 6.2, 7.8\n",
    "\n",
    "\n",
    "A continuación se mostrara que con saber esta información podríamos identificar a esta persona dentro de la base de datos y acceder a la información relacionada.\n",
    "\n",
    "Filtramos los registros por la lista de notas mas arriba indicados."
   ]
  },
  {
   "cell_type": "code",
   "execution_count": 90,
   "metadata": {
    "collapsed": false
   },
   "outputs": [
    {
     "name": "stdout",
     "output_type": "stream",
     "text": [
      "Numero de alumnos encontrados con las siguientes notas [5.8, 8.9, 5.5, 6.2, 7.8]: 1\n"
     ]
    }
   ],
   "source": [
    "notas = [5.8, 8.9, 5.5, 6.2, 7.8]\n",
    "\n",
    "uno = datos[datos['nota_primera_conv'] == 5.8].reset_index(drop=True)\n",
    "dos = datos[datos['nota_primera_conv'] == 8.9].reset_index(drop=True)\n",
    "tres = datos[datos['nota_primera_conv'] == 5.5].reset_index(drop=True)\n",
    "cuatro = datos[datos['nota_primera_conv'] == 6.2].reset_index(drop=True)\n",
    "cinco = datos[datos['nota_primera_conv'] == 7.8].reset_index(drop=True)\n",
    "\n",
    "datos3 = pd.concat([uno, dos, tres, cuatro, cinco])\n",
    "ids = datos3.id_alumne.unique()\n",
    "gg = datos3.groupby('id_alumne')\n",
    "\n",
    "id_alumnes = []\n",
    "\n",
    "for id_alumne in ids:\n",
    "    alumne = gg.get_group(id_alumne)['nota_primera_conv'].values\n",
    "    if (len(alumne) >= len(notas)):\n",
    "        k = 0\n",
    "        for nota in notas:\n",
    "            if nota in alumne:\n",
    "                k+=1\n",
    "        if k == len (notas):\n",
    "            id_alumnes.append(gg.get_group(id_alumne)['id_alumne'].unique())\n",
    "            \n",
    "\n",
    "print \"Numero de alumnos encontrados con las siguientes notas \" + str(notas) + \": \" + str(len(id_alumnes))"
   ]
  },
  {
   "cell_type": "markdown",
   "metadata": {},
   "source": [
    "#### Podríamos solucionar este problema añadiendo un ruido a las notas de acceso o quitar decimales"
   ]
  },
  {
   "cell_type": "markdown",
   "metadata": {
    "collapsed": true
   },
   "source": [
    "###Ejemplo 4. \n",
    "\n",
    "Supongamos que disponemos de la sigueinte información acerca de una persona:\n",
    "\n",
    "+ Nota de la asignatura cursada de Algebra (364291): 8.5\n",
    "+ Nota de la asignatura cursada de : Electronica (364305): 7.7\n",
    "\n",
    "\n",
    "A continuación se mostrara que con saber esta información podríamos identificar a esta persona dentro de la base de datos y acceder a la información relacionada.\n",
    "\n",
    "Filtramos los registros por la lista de notas mas arriba indicados."
   ]
  },
  {
   "cell_type": "code",
   "execution_count": 91,
   "metadata": {
    "collapsed": false
   },
   "outputs": [],
   "source": [
    "asignaturas = [364291, 364305]\n",
    "datos4_A = datos[datos['id_assig'] == 364291].reset_index(drop=True)\n",
    "datos4_B = datos[datos['id_assig'] == 364305].reset_index(drop=True)\n",
    "\n",
    "datos4_A = datos4_A[datos4_A['nota_primera_conv'] == 8.5]\n",
    "datos4_B = datos4_B[datos4_B['nota_primera_conv'] == 7.7]"
   ]
  },
  {
   "cell_type": "code",
   "execution_count": 94,
   "metadata": {
    "collapsed": false
   },
   "outputs": [
    {
     "name": "stdout",
     "output_type": "stream",
     "text": [
      "Numero de alumnos encontrados: 1\n"
     ]
    }
   ],
   "source": [
    "datos4 = pd.concat([datos4_A, datos4_B])\n",
    "ids = datos4.id_alumne.unique()\n",
    "datos4 = datos4.groupby('id_alumne')\n",
    "\n",
    "id_alumnes = []\n",
    "\n",
    "for id_alumne in ids:\n",
    "    gr = datos4.get_group(id_alumne)['id_assig'].values\n",
    "    if (len(gr) >= len(asignaturas)):\n",
    "        k = 0\n",
    "        for asig in asignaturas:\n",
    "            if asig in gr:\n",
    "                k+=1\n",
    "        if k == len (asignaturas):\n",
    "            id_alumnes.append(datos4.get_group(id_alumne)['id_alumne'].unique())\n",
    "        \n",
    "print \"Numero de alumnos encontrados: \" + str(len(id_alumnes))\n"
   ]
  },
  {
   "cell_type": "markdown",
   "metadata": {},
   "source": [
    "#### Podríamos solucionar este problema añadiendo un ruido a las notas de acceso o quitar decimales"
   ]
  }
 ],
 "metadata": {
  "kernelspec": {
   "display_name": "Python 2",
   "language": "python",
   "name": "python2"
  },
  "language_info": {
   "codemirror_mode": {
    "name": "ipython",
    "version": 2
   },
   "file_extension": ".py",
   "mimetype": "text/x-python",
   "name": "python",
   "nbconvert_exporter": "python",
   "pygments_lexer": "ipython2",
   "version": "2.7.9"
  }
 },
 "nbformat": 4,
 "nbformat_minor": 0
}
