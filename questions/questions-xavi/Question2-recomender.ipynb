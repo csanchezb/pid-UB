{
 "cells": [
  {
   "cell_type": "markdown",
   "metadata": {},
   "source": [
    "# Predicció de notes per fer recomanació de matrícules\n",
    "\n",
    "El nostre objectiu d'aquest notebook és fer un ranking de notes basats amb un algoritme de predicció. Tenim un conjunt de dades normalitzades i unes altres no normalitzades, totes les proves les farem amb els dos conjunts. Hem creat un recomanador propi i l'hem integrat amb l'interfaç d'sklearn per així poder testejar de la mateixa manera que fem amb altres algoritmes d'aquesta llibreria. "
   ]
  },
  {
   "cell_type": "code",
   "execution_count": 1,
   "metadata": {
    "collapsed": false
   },
   "outputs": [],
   "source": [
    "%matplotlib inline\n",
    "from IPython.display import display\n",
    "import numpy as np\n",
    "import pandas as pd\n",
    "import math\n",
    "import random as rnd\n",
    "from sklearn.cross_validation import train_test_split\n",
    "from sklearn.metrics import mean_absolute_error, mean_squared_error\n",
    "from sklearn.base import BaseEstimator\n",
    "from sklearn.ensemble import RandomForestRegressor\n",
    "from sklearn.linear_model import LinearRegression\n",
    "\n",
    "#import from utils\n",
    "import sys\n",
    "sys.path.append('../')\n",
    "from utils import *\n",
    "\n",
    "reg = pd.read_csv(\"../../../registers.csv\", na_values=np.nan)\n",
    "assig = pd.read_csv(\"../../../assigs.csv\", na_values=np.nan)\n",
    "conv = pd.read_csv(\"../../../conv.csv\", na_values=np.nan)\n",
    "qual = pd.read_csv(\"../../../qualifications.csv\", na_values=np.nan)\n",
    "qual_norm = pd.read_csv(\"../../../qualifications_normalized.csv\", na_values=np.nan)\n",
    "\n",
    "reg_info = reg[reg['id_enseny'] != 'G1042']\n",
    "assig_info = assig[assig['id_enseny_assig'] != 'G1042']\n",
    "\n",
    "df_info = pd.merge(pd.merge(qual, assig_info), reg_info)\n",
    "df_info_norm = pd.merge(pd.merge(qual_norm, assig_info), reg_info)"
   ]
  },
  {
   "cell_type": "code",
   "execution_count": 2,
   "metadata": {
    "collapsed": false
   },
   "outputs": [],
   "source": [
    "# Primer del grau d'Enginyeria Informàtica\n",
    "# * PROGRAMACIÓ I                -> 364288\n",
    "# * DISSENY DIGITAL BÀSIC        -> 364289\n",
    "# * INTRODUCCIÓ ALS ORDINADORS   -> 364290\n",
    "# * ÀLGEBRA                      -> 364291\n",
    "# * CÀLCUL                       -> 364292\n",
    "# * MATEMÀTICA DISCRETA          -> 364293\n",
    "# * FÍSICA                       -> 364294\n",
    "# * ALGORÍSMICA                  -> 364298\n",
    "# * PROGRAMACIÓ II               -> 364299\n",
    "# * ESTRUCTURA DE DADES          -> 364301\n",
    "\n",
    "# Segon del grau d'Enginyeria Informàtica\n",
    "# * ELECTRÒNICA                              -> 364297\n",
    "# * ALGORÍSMICA AVANÇADA                     -> 364300\n",
    "# * DISSENY DE SOFTWARE                      -> 364303\n",
    "# * ESTRUCTURA DE COMPUTADORS                -> 364305\n",
    "# * INTRODUCCIÓ A LA COMPUTACIÓ CIENTÍFICA   -> 364302\n",
    "# * EMPRESA                                  -> 364296\n",
    "# * PROBABILITATS I ESTADÍSTICA              -> 364295\n",
    "# * PROGRAMACIÓ D'ARQUITECTURES ENCASTADES   -> 364306\n",
    "# * PROJECTE INTEGRAT DE SOFTWARE            -> 364304\n",
    "# * SISTEMES OPERATIUS I                     -> 364307\n",
    "\n",
    "assigs1 = [364288, 364289, 364290, 364291, 364292, 364293, 364294, 364298, 364299, 364301]\n",
    "assigs2 = [364297, 364300, 364303, 364305, 364302, 364296, 364295, 364306, 364304, 364307]\n",
    "assigs = assigs1 + assigs2"
   ]
  },
  {
   "cell_type": "code",
   "execution_count": 3,
   "metadata": {
    "collapsed": false
   },
   "outputs": [],
   "source": [
    "recomender_table = table_students(df_info, assigs)\n",
    "recomender_table_norm = table_students(df_info_norm, assigs)\n",
    "\n",
    "primer = recomender_table[assigs1]\n",
    "segon = recomender_table[assigs2]\n",
    "primer_norm = recomender_table_norm[assigs1]\n",
    "segon_norm = recomender_table_norm[assigs2]"
   ]
  },
  {
   "cell_type": "code",
   "execution_count": 4,
   "metadata": {
    "collapsed": true
   },
   "outputs": [],
   "source": [
    "def coefPearson(x, y):\n",
    "    x = np.array(x)\n",
    "    x = x.reshape(x.size)\n",
    "    y = np.array(y)\n",
    "    y = y.reshape(y.size)\n",
    "    length = len(x)\n",
    "    x_mean = np.mean(x)\n",
    "    y_mean = np.mean(y)\n",
    "    x_2 = y_2 = xy =0\n",
    "    for i in range(length):#apliquem la fórmula del coeficient de pearson\n",
    "        x_menys_mean = x[i]-x_mean\n",
    "        y_menys_mean = y[i]-y_mean\n",
    "        xy += (x_menys_mean)*(y_menys_mean)\n",
    "        x_2 += x_menys_mean**2\n",
    "        y_2 += y_menys_mean**2\n",
    "    square = math.sqrt(x_2*y_2)\n",
    "    if square == 0:#si square es 0 retornem 0 perquè no doni error\n",
    "        return 0\n",
    "    coef = float(xy)/square\n",
    "    return abs(coef)"
   ]
  },
  {
   "cell_type": "markdown",
   "metadata": {},
   "source": [
    "### Construcció d'un recomanador amb l'interfaç d'sklearn\n",
    "\n",
    "Construïm un recomanador on el seu input es una matriu de NxM (alumne x assignatura, o viceversa). D'aquesta matriu agafa totes aquelles cel·les que tenen un NaN (np.nan) i prediu quina nota hauria d'anar, seguint la següent fórmula:\n",
    "\n",
    "$$m_{e_qa_p} = \\sum_{j=1}^n{\\alpha_{a_pa_j}m_{e_qa_j}}$$\n",
    "\n",
    "On:\n",
    " * $e_i$ és un estudiant\n",
    " * $a_i$ és una assignatura\n",
    " * $\\alpha$ és una funció de similitud\n",
    " \n",
    "Aquesta fórmula no és més que una suma ponderada, resumint, si un alumne s'assembla molt a un altre, tendiran a tenir les mateixes notes.\n",
    "\n",
    "La aventatge que té aquest algoritme es que si transposem la matriu $m$, en comptes de tenir un recomanador col·laboratiu, tenim un recomanador basat en contingut.\n",
    "\n",
    "A partir d'aquí hem de encapsular tot això dintre d'un estimador d'sklearn, per això hem d'heredar de `BaseEstimator` i implementar els mètodes `fit` i `predict`."
   ]
  },
  {
   "cell_type": "code",
   "execution_count": 5,
   "metadata": {
    "collapsed": true
   },
   "outputs": [],
   "source": [
    "class Recomender(BaseEstimator):\n",
    "    def __init__(self, method=coefPearson, collaborative=True):\n",
    "        self._m = None\n",
    "        self._method = method\n",
    "        self._collaborative = collaborative\n",
    "        \n",
    "    def fit(self, X, y):\n",
    "        X = np.array(X)\n",
    "        y = np.array(y)\n",
    "        self._m = np.concatenate((X,y), axis=1)\n",
    "        return self\n",
    "    \n",
    "    def predict(self, X):\n",
    "        X = np.array(X)\n",
    "        if len(X.shape) == 1:\n",
    "            X = np.array([X])\n",
    "        nan = [np.nan for i in xrange(self._m.shape[1] - X.shape[1])]\n",
    "        out = np.array([])\n",
    "        for xi in X:\n",
    "            m = np.array(self._m)\n",
    "            row = np.concatenate((xi,nan),axis=1)\n",
    "            m = np.vstack((m, row))\n",
    "            if not self._collaborative:\n",
    "                m = m.T\n",
    "            m_predict, idx = self._recomender(m)\n",
    "            if out.shape[0] == 0:\n",
    "                out = np.array([[m_predict[tuple(i)] for i in idx]])\n",
    "            else:\n",
    "                out = np.vstack((out, [m_predict[tuple(i)] for i in idx]))\n",
    "        return out\n",
    "        \n",
    "    def _recomender(self, m):\n",
    "        out = np.array(m)\n",
    "        idx = np.argwhere(np.isnan(m))\n",
    "        for i in idx:\n",
    "            out[tuple(i)] = 0\n",
    "            sim_sum = 0\n",
    "            cols = np.argwhere(~np.isnan(m[i[0]])).T[0]\n",
    "\n",
    "            student = m[i[0]]\n",
    "            for j in range(m.shape[0]):\n",
    "                cols= list(set(cols).intersection(np.argwhere(~np.isnan(m[j])).T[0]))\n",
    "                if np.isnan(m[j,i[1]]) or j == i[0]:\n",
    "                    continue\n",
    "                alpha = self._method(student[cols], m[j,cols])\n",
    "                sim_sum += alpha\n",
    "                out[tuple(i)] += alpha*m[j,i[1]]\n",
    "            out[tuple(i)] /= sim_sum\n",
    "        return out, idx\n",
    "    "
   ]
  },
  {
   "cell_type": "markdown",
   "metadata": {},
   "source": [
    "Ara provarem el nostre recomanador basat en contingut, és a dir, en assignatures.\n",
    "Per començar provem de predir les notes d'un alumne amb un expedient excel·lent, d'aquest podrem veure que treu bones notes en tot.\n",
    "Ara bé, que passa si un altre alumne treu males notes a les assignatures de programació?\n",
    "* **'Programació I'**        - 0.5\n",
    "* **'Algorítmica'**          - 3.4\n",
    "* **'Programació II'**       - 1.2\n",
    "* **'Estructura de Dades'**  - 0.7"
   ]
  },
  {
   "cell_type": "code",
   "execution_count": 6,
   "metadata": {
    "collapsed": false
   },
   "outputs": [
    {
     "data": {
      "text/plain": [
       "array([[ 8.8509229 ,  8.87694108,  8.71400149,  8.98309551,  8.82963526,\n",
       "         8.85978464,  8.86224037,  8.9216842 ,  8.65945579,  8.8854686 ],\n",
       "       [ 6.5248692 ,  6.39545225,  3.76761985,  7.78963448,  7.04361254,\n",
       "         6.37301966,  7.97467385,  6.25695891,  2.63530863,  6.86469523]])"
      ]
     },
     "execution_count": 6,
     "metadata": {},
     "output_type": "execute_result"
    }
   ],
   "source": [
    "to_predict = [[9.00, 9.00, 9.00, 9.00, 9.3, 9.00, 7.70, 9.10, 9.30, 7.40],\n",
    "              [0.50, 9.00, 9.00, 9.00, 9.3, 9.00, 7.70, 3.4, 1.2, 0.7]]\n",
    "recomender = Recomender(collaborative=False)\n",
    "recomender.fit(primer.values, segon.values)\n",
    "recomender.predict(to_predict)"
   ]
  },
  {
   "cell_type": "markdown",
   "metadata": {},
   "source": [
    "Es veu com en les assignatures de segon que no estan molt relacionades amb les suspeses a primer no es veuen afectades, però tant 'Disseny de Software' i 'Projecte integrat de software' surten suspeses. Per tant, ja el mateix recomanador ens diu les **depèndencies d'assignatures**."
   ]
  },
  {
   "cell_type": "markdown",
   "metadata": {},
   "source": [
    "### Testeig\n",
    "\n",
    "Defineixo diferents tècniques:\n",
    " * Recomanador col·laboratiu (alumnes)\n",
    " * Recomanador basat en contingut (assignatures)\n",
    " * Random Forest Regressor (regressor)\n",
    " * Linear Regression (regressor)\n",
    " \n",
    "Per cada tècnica mesurem:\n",
    " * MAE (Error promig absolut): $$ \\mathrm{MAE} = \\frac{1}{n}\\sum_{i=1}^n \\left| y_{pred}-y_{test}\\right|$$\n",
    " * MSE (Error promig quadràtic): $$\\mathrm{MSE}=\\frac{1}{n}\\sum_{i=1}^n(y_{pred}-y_{test})^2$$\n",
    " * PCC (Coeficient de pearson): $$\\mathrm{PCC} =\\frac{\\sum_{i=1}^n(y_{pred} - \\bar{y}_{pred})(y_{test} - \\bar{y}_{test})}{\\sqrt{\\sum_{i=1}^n(y_{pred} - \\bar{y}_{pred})^2  \\sum_{i=1}^n(y_{test} - \\bar{y}_{test})^2}}$$\n",
    " "
   ]
  },
  {
   "cell_type": "code",
   "execution_count": 7,
   "metadata": {
    "collapsed": true
   },
   "outputs": [],
   "source": [
    "def benchmark(X,y,estimator):\n",
    "    X_train, X_test, y_train, y_test = train_test_split(X, y, test_size=0.33, random_state=42)\n",
    "    estimator.fit(X_train, y_train)\n",
    "    y_pred = estimator.predict(X_test)\n",
    "    print \"MAE (Mean Absolut Error):             %.3f\" % mean_absolute_error(y_pred, y_test)\n",
    "    print \"MSE (Mean Squared Error):             %.3f\" % mean_squared_error(y_pred, y_test)\n",
    "    print \"PCC (Pearson Correlation Coeficient): %.3f\" % coefPearson(y_pred, y_test)"
   ]
  },
  {
   "cell_type": "code",
   "execution_count": 8,
   "metadata": {
    "collapsed": false
   },
   "outputs": [
    {
     "name": "stdout",
     "output_type": "stream",
     "text": [
      "No normalized data\n",
      "_________________________________________________________________\n",
      "\n",
      "Estimador: Recomender(collaborative=None, method=None)\n",
      "MAE (Mean Absolut Error):             1.231\n",
      "MSE (Mean Squared Error):             2.997\n",
      "PCC (Pearson Correlation Coeficient): 0.335\n",
      "\n",
      "Estimador: Recomender(collaborative=None, method=None)\n",
      "MAE (Mean Absolut Error):             1.197\n",
      "MSE (Mean Squared Error):             2.905\n",
      "PCC (Pearson Correlation Coeficient): 0.403\n",
      "\n",
      "Estimador: RandomForestRegressor(bootstrap=True, compute_importances=None,\n",
      "           criterion='mse', max_depth=None, max_features='auto',\n",
      "           max_leaf_nodes=None, min_density=None, min_samples_leaf=1,\n",
      "           min_samples_split=2, n_estimators=100, n_jobs=1,\n",
      "           oob_score=False, random_state=42, verbose=0)\n",
      "MAE (Mean Absolut Error):             1.134\n",
      "MSE (Mean Squared Error):             2.584\n",
      "PCC (Pearson Correlation Coeficient): 0.490\n",
      "\n",
      "Estimador: LinearRegression(copy_X=True, fit_intercept=True, normalize=False)\n",
      "MAE (Mean Absolut Error):             1.175\n",
      "MSE (Mean Squared Error):             2.720\n",
      "PCC (Pearson Correlation Coeficient): 0.462\n",
      "\n",
      "Normalized data\n",
      "_________________________________________________________________\n",
      "\n",
      "Estimador: Recomender(collaborative=None, method=None)\n",
      "MAE (Mean Absolut Error):             0.558\n",
      "MSE (Mean Squared Error):             0.669\n",
      "PCC (Pearson Correlation Coeficient): 0.069\n",
      "\n",
      "Estimador: Recomender(collaborative=None, method=None)\n",
      "MAE (Mean Absolut Error):             0.531\n",
      "MSE (Mean Squared Error):             0.660\n",
      "PCC (Pearson Correlation Coeficient): 0.358\n",
      "\n",
      "Estimador: RandomForestRegressor(bootstrap=True, compute_importances=None,\n",
      "           criterion='mse', max_depth=None, max_features='auto',\n",
      "           max_leaf_nodes=None, min_density=None, min_samples_leaf=1,\n",
      "           min_samples_split=2, n_estimators=100, n_jobs=1,\n",
      "           oob_score=False, random_state=42, verbose=0)\n",
      "MAE (Mean Absolut Error):             0.509\n",
      "MSE (Mean Squared Error):             0.565\n",
      "PCC (Pearson Correlation Coeficient): 0.393\n",
      "\n",
      "Estimador: LinearRegression(copy_X=True, fit_intercept=True, normalize=False)\n",
      "MAE (Mean Absolut Error):             0.538\n",
      "MSE (Mean Squared Error):             0.648\n",
      "PCC (Pearson Correlation Coeficient): 0.323\n",
      "\n"
     ]
    }
   ],
   "source": [
    "estimators = [Recomender(collaborative=True),\n",
    "              Recomender(collaborative=False), \n",
    "              RandomForestRegressor(n_estimators=100, random_state=42), #42, magic number\n",
    "              LinearRegression()]\n",
    "print \"No normalized data\"\n",
    "print \"_________________________________________________________________\"\n",
    "print\n",
    "for e  in estimators:\n",
    "    print \"Estimador:\", e\n",
    "    benchmark(primer.values, segon.values, e)\n",
    "    print\n",
    "print \"Normalized data\"\n",
    "print \"_________________________________________________________________\"\n",
    "print\n",
    "for e  in estimators:\n",
    "    print \"Estimador:\", e\n",
    "    benchmark(primer_norm.values, segon_norm.values, e)\n",
    "    print"
   ]
  },
  {
   "cell_type": "markdown",
   "metadata": {},
   "source": [
    "### Ranking d'assignatures\n",
    "\n",
    "A partir d'un bon recomanador o regressor, escollit segons el testeig, l'agafem per tal de fer un ranking d'assignatures. La finalitat és que donat un alumne poguem donar un ranking de notes ordenades des de la que li anirà bé fins la que tindrà més problemes."
   ]
  },
  {
   "cell_type": "code",
   "execution_count": 9,
   "metadata": {
    "collapsed": true
   },
   "outputs": [],
   "source": [
    "def ranking_notes(X_train, y_train, X_test, estimator):\n",
    "    estimator.fit(X_train, y_train)\n",
    "    y_pred = np.squeeze(estimator.predict(X_test))\n",
    "    s = sorted(zip(y_pred,assigs2))[::-1]\n",
    "    return s"
   ]
  },
  {
   "cell_type": "code",
   "execution_count": 10,
   "metadata": {
    "collapsed": false
   },
   "outputs": [
    {
     "name": "stdout",
     "output_type": "stream",
     "text": [
      "7.64 - Projecte Integrat de Software\n",
      "7.44 - Programació d'Arquitectures Encastades\n",
      "6.93 - Disseny de Software\n",
      "6.64 - Algorísmica Avançada\n",
      "6.61 - Empresa\n",
      "6.40 - Sistemes Operatius I\n",
      "6.09 - Introducció a la Computació Científica\n",
      "6.01 - Probabilitats i Estadística\n",
      "5.80 - Estructura de Computadors\n",
      "5.73 - Electrònica\n"
     ]
    }
   ],
   "source": [
    "# Primer del grau d'Enginyeria Informàtica\n",
    "# * PROGRAMACIÓ I                -> 364288\n",
    "# * DISSENY DIGITAL BÀSIC        -> 364289\n",
    "# * INTRODUCCIÓ ALS ORDINADORS   -> 364290\n",
    "# * ÀLGEBRA                      -> 364291\n",
    "# * CÀLCUL                       -> 364292\n",
    "# * MATEMÀTICA DISCRETA          -> 364293\n",
    "# * FÍSICA                       -> 364294\n",
    "# * ALGORÍSMICA                  -> 364298\n",
    "# * PROGRAMACIÓ II               -> 364299\n",
    "# * ESTRUCTURA DE DADES          -> 364301\n",
    "\n",
    "# Segon del grau d'Enginyeria Informàtica\n",
    "# * ELECTRÒNICA                              -> 364297\n",
    "# * ALGORÍSMICA AVANÇADA                     -> 364300\n",
    "# * DISSENY DE SOFTWARE                      -> 364303\n",
    "# * ESTRUCTURA DE COMPUTADORS                -> 364305\n",
    "# * INTRODUCCIÓ A LA COMPUTACIÓ CIENTÍFICA   -> 364302\n",
    "# * EMPRESA                                  -> 364296\n",
    "# * PROBABILITATS I ESTADÍSTICA              -> 364295\n",
    "# * PROGRAMACIÓ D'ARQUITECTURES ENCASTADES   -> 364306\n",
    "# * PROJECTE INTEGRAT DE SOFTWARE            -> 364304\n",
    "# * SISTEMES OPERATIUS I                     -> 364307\n",
    "\n",
    "#input\n",
    "alumne = [9.00, 9.00, 9.00, 1.3, 6.5, 2.2, 3.4, 9.10, 9.30, 7.40]\n",
    "estimator = Recomender(collaborative=False)\n",
    "\n",
    "# call function\n",
    "s = ranking_notes(primer.values, segon.values, alumne, estimator)\n",
    "for mark, subject in s:\n",
    "    print \"%.2f - %s\" % (mark, assig[assig.id_assig == subject]['desc_assig'].values[0])"
   ]
  }
 ],
 "metadata": {
  "kernelspec": {
   "display_name": "Python 2",
   "language": "python",
   "name": "python2"
  },
  "language_info": {
   "codemirror_mode": {
    "name": "ipython",
    "version": 2
   },
   "file_extension": ".py",
   "mimetype": "text/x-python",
   "name": "python",
   "nbconvert_exporter": "python",
   "pygments_lexer": "ipython2",
   "version": "2.7.9"
  }
 },
 "nbformat": 4,
 "nbformat_minor": 0
}
